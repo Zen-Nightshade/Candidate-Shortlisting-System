{
 "cells": [
  {
   "cell_type": "markdown",
   "id": "3ff639c6-d7b4-4f39-a8ff-4f9b5085ee20",
   "metadata": {},
   "source": [
    "# Importing Libraries"
   ]
  },
  {
   "cell_type": "code",
   "execution_count": 1,
   "id": "c81b3468-8abc-4276-9748-56a95bbe85cf",
   "metadata": {},
   "outputs": [],
   "source": [
    "import pandas as pd\n",
    "import numpy as np\n",
    "import torch\n",
    "import torch.nn as nn\n",
    "import torch.nn.functional as F\n",
    "from torch.utils.data import Dataset, DataLoader\n",
    "from transformers import BertTokenizer, BertModel\n",
    "from sklearn.preprocessing import OneHotEncoder, LabelEncoder\n",
    "from sklearn.model_selection import train_test_split\n",
    "from sklearn.metrics import accuracy_score, recall_score\n",
    "import seaborn as sns\n",
    "import matplotlib.pyplot as plt \n",
    "import random\n",
    "import re\n",
    "from IPython.display import HTML"
   ]
  },
  {
   "cell_type": "markdown",
   "id": "a8157fe1-dab8-462f-97cd-9c84f5596633",
   "metadata": {},
   "source": [
    "# Important"
   ]
  },
  {
   "cell_type": "markdown",
   "id": "532545f3-4e7e-43d9-bf9e-dacb0c547621",
   "metadata": {},
   "source": [
    "To change the resume location, update the resume location below and I recomend to use the pretrained parameter, as it take hours to train each model, and I didn't parallelize the code as i split the tokenised text into chunks of size 130 (128+2) and it was becoming quite complicated to parallize it, training it batch wise"
   ]
  },
  {
   "cell_type": "code",
   "execution_count": 2,
   "id": "f244c277-57ad-46a7-898d-28d1a4ac3c02",
   "metadata": {},
   "outputs": [],
   "source": [
    "resumes_location = \"Dataset/UpdatedResumeDataSet.csv\"\n",
    "load_pretrained_model = False"
   ]
  },
  {
   "cell_type": "markdown",
   "id": "a5704b9c-9791-48df-9d2a-8aef9d04192e",
   "metadata": {},
   "source": [
    "## Beep Sound\n",
    "This is just a small function i used to check if the training has been completed, please ignore this"
   ]
  },
  {
   "cell_type": "code",
   "execution_count": 3,
   "id": "f3b5a9db-c7b2-4435-9a15-feb512304fa6",
   "metadata": {},
   "outputs": [
    {
     "data": {
      "text/html": [
       "\n",
       "                <audio  controls=\"controls\" autoplay=\"autoplay\">\n",
       "                    <source src=\"data:audio/wav;base64,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\" type=\"audio/wav\" />\n",
       "                    Your browser does not support the audio element.\n",
       "                </audio>\n",
       "              "
      ],
      "text/plain": [
       "<IPython.lib.display.Audio object>"
      ]
     },
     "execution_count": 3,
     "metadata": {},
     "output_type": "execute_result"
    }
   ],
   "source": [
    "from IPython.display import Audio\n",
    "import numpy as np\n",
    "\n",
    "def beep(frequency=1000, duration=0.2, rate=44100):\n",
    "    t = np.linspace(0, duration, int(rate * duration), endpoint=False)\n",
    "    wave = 0.5 * np.sin(2 * np.pi * frequency * t)\n",
    "    return Audio(wave, rate=rate, autoplay=True)\n",
    "# print(\"Hello\")\n",
    "beep()"
   ]
  },
  {
   "cell_type": "markdown",
   "id": "030ef250-19d7-4d4d-97a0-23fddb657696",
   "metadata": {},
   "source": [
    "# Loading the Dataset"
   ]
  },
  {
   "cell_type": "code",
   "execution_count": 4,
   "id": "ce16a15c-3e8d-4539-9d82-23d73fc1e8e4",
   "metadata": {},
   "outputs": [
    {
     "data": {
      "text/html": [
       "<div>\n",
       "<style scoped>\n",
       "    .dataframe tbody tr th:only-of-type {\n",
       "        vertical-align: middle;\n",
       "    }\n",
       "\n",
       "    .dataframe tbody tr th {\n",
       "        vertical-align: top;\n",
       "    }\n",
       "\n",
       "    .dataframe thead th {\n",
       "        text-align: right;\n",
       "    }\n",
       "</style>\n",
       "<table border=\"1\" class=\"dataframe\">\n",
       "  <thead>\n",
       "    <tr style=\"text-align: right;\">\n",
       "      <th></th>\n",
       "      <th>Category</th>\n",
       "      <th>Resume</th>\n",
       "    </tr>\n",
       "  </thead>\n",
       "  <tbody>\n",
       "    <tr>\n",
       "      <th>0</th>\n",
       "      <td>Data Science</td>\n",
       "      <td>Skills * Programming Languages: Python (pandas...</td>\n",
       "    </tr>\n",
       "    <tr>\n",
       "      <th>1</th>\n",
       "      <td>Data Science</td>\n",
       "      <td>Education Details \\r\\nMay 2013 to May 2017 B.E...</td>\n",
       "    </tr>\n",
       "    <tr>\n",
       "      <th>2</th>\n",
       "      <td>Data Science</td>\n",
       "      <td>Areas of Interest Deep Learning, Control Syste...</td>\n",
       "    </tr>\n",
       "    <tr>\n",
       "      <th>3</th>\n",
       "      <td>Data Science</td>\n",
       "      <td>Skills â¢ R â¢ Python â¢ SAP HANA â¢ Table...</td>\n",
       "    </tr>\n",
       "    <tr>\n",
       "      <th>4</th>\n",
       "      <td>Data Science</td>\n",
       "      <td>Education Details \\r\\n MCA   YMCAUST,  Faridab...</td>\n",
       "    </tr>\n",
       "    <tr>\n",
       "      <th>...</th>\n",
       "      <td>...</td>\n",
       "      <td>...</td>\n",
       "    </tr>\n",
       "    <tr>\n",
       "      <th>887</th>\n",
       "      <td>Blockchain</td>\n",
       "      <td>Hobbies â¢ Playing Chess â¢ Solving Rubik's ...</td>\n",
       "    </tr>\n",
       "    <tr>\n",
       "      <th>888</th>\n",
       "      <td>Blockchain</td>\n",
       "      <td>Skills Strong CS fundamentals and problem solv...</td>\n",
       "    </tr>\n",
       "    <tr>\n",
       "      <th>889</th>\n",
       "      <td>Blockchain</td>\n",
       "      <td>KEY SKILLS: Programing languages: C, C++, Pyth...</td>\n",
       "    </tr>\n",
       "    <tr>\n",
       "      <th>890</th>\n",
       "      <td>Blockchain</td>\n",
       "      <td>SOFTWARE SKILLS: Languages: C, C++ &amp; java Oper...</td>\n",
       "    </tr>\n",
       "    <tr>\n",
       "      <th>891</th>\n",
       "      <td>Blockchain</td>\n",
       "      <td>SKILLS Bitcoin, Ethereum Solidity Hyperledger,...</td>\n",
       "    </tr>\n",
       "  </tbody>\n",
       "</table>\n",
       "<p>892 rows × 2 columns</p>\n",
       "</div>"
      ],
      "text/plain": [
       "         Category                                             Resume\n",
       "0    Data Science  Skills * Programming Languages: Python (pandas...\n",
       "1    Data Science  Education Details \\r\\nMay 2013 to May 2017 B.E...\n",
       "2    Data Science  Areas of Interest Deep Learning, Control Syste...\n",
       "3    Data Science  Skills â¢ R â¢ Python â¢ SAP HANA â¢ Table...\n",
       "4    Data Science  Education Details \\r\\n MCA   YMCAUST,  Faridab...\n",
       "..            ...                                                ...\n",
       "887    Blockchain  Hobbies â¢ Playing Chess â¢ Solving Rubik's ...\n",
       "888    Blockchain  Skills Strong CS fundamentals and problem solv...\n",
       "889    Blockchain  KEY SKILLS: Programing languages: C, C++, Pyth...\n",
       "890    Blockchain  SOFTWARE SKILLS: Languages: C, C++ & java Oper...\n",
       "891    Blockchain  SKILLS Bitcoin, Ethereum Solidity Hyperledger,...\n",
       "\n",
       "[892 rows x 2 columns]"
      ]
     },
     "execution_count": 4,
     "metadata": {},
     "output_type": "execute_result"
    }
   ],
   "source": [
    "df = pd.read_csv(resumes_location, engine='python', quotechar='\"')\n",
    "df = df[df[\"Category\"]!= \"Testing\"].reset_index(drop=True)\n",
    "df"
   ]
  },
  {
   "cell_type": "markdown",
   "id": "74f2c76c-84fe-45f4-9512-e4d235306614",
   "metadata": {},
   "source": [
    "# Data Analysis"
   ]
  },
  {
   "cell_type": "code",
   "execution_count": 5,
   "id": "6d837e83-4991-410f-a02b-47c2579da8c7",
   "metadata": {},
   "outputs": [
    {
     "data": {
      "text/plain": [
       "Category\n",
       "Java Developer               84\n",
       "DevOps Engineer              55\n",
       "Python Developer             48\n",
       "Web Designing                45\n",
       "HR                           44\n",
       "Hadoop                       42\n",
       "Mechanical Engineer          40\n",
       "Data Science                 40\n",
       "Blockchain                   40\n",
       "ETL Developer                40\n",
       "Operations Manager           40\n",
       "Sales                        40\n",
       "Arts                         36\n",
       "Database                     33\n",
       "Electrical Engineering       30\n",
       "Health and fitness           30\n",
       "PMO                          30\n",
       "DotNet Developer             28\n",
       "Business Analyst             28\n",
       "Automation Testing           26\n",
       "Network Security Engineer    25\n",
       "Civil Engineer               24\n",
       "SAP Developer                24\n",
       "Advocate                     20\n",
       "Name: count, dtype: int64"
      ]
     },
     "execution_count": 5,
     "metadata": {},
     "output_type": "execute_result"
    }
   ],
   "source": [
    "df['Category'].value_counts()"
   ]
  },
  {
   "cell_type": "code",
   "execution_count": 6,
   "id": "e1446bdc-5661-4a38-bf5f-b7f5d4e101aa",
   "metadata": {},
   "outputs": [
    {
     "data": {
      "image/png": "[encoded data removed]",
      "text/plain": [
       "<Figure size 800x1500 with 1 Axes>"
      ]
     },
     "metadata": {},
     "output_type": "display_data"
    }
   ],
   "source": [
    "plt.figure(figsize=(8, 15))\n",
    "sns.countplot(y='Category', data=df)\n",
    "plt.show()"
   ]
  },
  {
   "cell_type": "markdown",
   "id": "725fbcd0-73af-42d3-a5be-f7777739e458",
   "metadata": {},
   "source": [
    "# Data Preprocessing"
   ]
  },
  {
   "cell_type": "markdown",
   "id": "4f1164d7-8d7e-42be-a2ff-89ef03911685",
   "metadata": {},
   "source": [
    "## Text Cleaning"
   ]
  },
  {
   "cell_type": "code",
   "execution_count": 7,
   "id": "62dd5ea7-76d3-45fa-bc65-2f0cfd0813af",
   "metadata": {},
   "outputs": [],
   "source": [
    "def clean_text(text):\n",
    "    text = re.sub(r'<.*?>', '', text)         # remove HTML tags\n",
    "    text = re.sub(r'http\\S+', '', text)       # remove URLs\n",
    "    text = re.sub(r'[\\n\\r\\t]+',' ',text)         # remove \"\\n\" and \"\\r\"\n",
    "    text = re.sub(r'[^a-zA-Z0-9., ]', '', text)\n",
    "    text = re.sub(r'\\s\\s+',' ',text)         # remove extra space\n",
    "    return text.lower().strip()"
   ]
  },
  {
   "cell_type": "code",
   "execution_count": 8,
   "id": "db579e6e-4fd4-4074-be43-783bdd548815",
   "metadata": {},
   "outputs": [
    {
     "name": "stdout",
     "output_type": "stream",
     "text": [
      "Data Science\n",
      "skills programming languages python pandas, numpy, scipy, scikitlearn, matplotlib, sql, java, javascriptjquery. machine learning regression, svm, nave bayes, knn, random forest, decision trees, boosting techniques, cluster analysis, word embedding, sentiment analysis, natural language processing, dimensionality reduction, topic modelling lda, nmf, pca neural nets. database visualizations mysql, sqlserver, cassandra, hbase, elasticsearch d3.js, dc.js, plotly, kibana, matplotlib, ggplot, tableau. others regular expression, html, css, angular 6, logstash, kafka, python flask, git, docker, computer vision open cv and understanding of deep learning.education details data science assurance associate data science assurance associate ernst young llp skill details javascript exprience 24 months jquery exprience 24 months python exprience 24 monthscompany details company ernst young llp description fraud investigations and dispute services assurance technology assisted review tar technology assisted review assists in accelerating the review process and run analytics and generate reports. core member of a team helped in developing automated review platform tool from scratch for assisting e discovery domain, this tool implements predictive coding and topic modelling by automating reviews, resulting in reduced labor costs and time spent during the lawyers review. understand the end to end flow of the solution, doing research and development for classification models, predictive analysis and mining of the information present in text data. worked on analyzing the outputs and precision monitoring for the entire tool. tar assists in predictive coding, topic modelling from the evidence by following ey standards. developed the classifier models in order to identify red flags and fraudrelated issues. tools technologies python, scikitlearn, tfidf, word2vec, doc2vec, cosine similarity, nave bayes, lda, nmf for topic modelling, vader and text blob for sentiment analysis. matplot lib, tableau dashboard for reporting. multiple data science and analytic projects usa clients text analytics motor vehicle customer review data received customer feedback survey data for past one year. performed sentiment positive, negative neutral and time series analysis on customer comments across all 4 categories. created heat map of terms by survey category based on frequency of words extracted positive and negative words across all the survey categories and plotted word cloud. created customized tableau dashboards for effective reporting and visualizations. chatbot developed a user friendly chatbot for one of our products which handle simple questions about hours of operation, reservation options and so on. this chat bot serves entire product related questions. giving overview of tool via qa platform and also give recommendation responses so that user question to build chain of relevant answer. this too has intelligence to build the pipeline of questions as per user requirement and asks the relevant recommended questions. tools technologies python, natural language processing, nltk, spacy, topic modelling, sentiment analysis, word embedding, scikitlearn, javascriptjquery, sqlserver information governance organizations to make informed decisions about all of the information they store. the integrated information governance portfolio synthesizes intelligence across unstructured data sources and facilitates action to ensure organizations are best positioned to counter information risk. scan data from multiple sources of formats and parse different file formats, extract meta data information, push results for indexing elastic search and created customized, interactive dashboards using kibana. preforming rot analysis on the data which give information of data which helps identify content that is either redundant, outdated, or trivial. preforming fulltext search analysis on elastic search with predefined methods which can tag as pii personally identifiable information social security numbers, addresses, names, etc. which frequently targeted during cyberattacks. tools technologies python, flask, elastic search, kibana fraud analytic platform fraud analytics and investigative platform to review all red flag cases. fap is a fraud analytics and investigative platform with inbuilt case manager and suite of analytics for various erp systems. it can be used by clients to interrogate their accounting systems for identifying the anomalies which can be indicators of fraud by running advanced analytics tools technologies html, javascript, sqlserver, jquery, css, bootstrap, node.js, d3.js, dc.js\n"
     ]
    }
   ],
   "source": [
    "df['Resume'] = df['Resume'].apply(clean_text)\n",
    "print(df[\"Category\"][4])\n",
    "print(df['Resume'][0])"
   ]
  },
  {
   "cell_type": "markdown",
   "id": "3ef28ca6-2f71-402f-9518-c5636aff2a53",
   "metadata": {},
   "source": [
    "## Data Labeling"
   ]
  },
  {
   "cell_type": "markdown",
   "id": "74f34015-c16e-41b0-bf07-9548e4277bdb",
   "metadata": {},
   "source": [
    "To label the data, i used some set of key words and counted the number of key words that were matching, and if the number of key words matching is atleast certain fraction of the total number of keywords in that job category then i labeled as shortlisted otherwise, that dude is not selected for the interview.\n",
    "\n",
    "The following is the dictionary containing the keywords, and these were generated by chatGPT as i don't have the knowledge in most of the following fields."
   ]
  },
  {
   "cell_type": "markdown",
   "id": "ed10455e-7651-44c7-b39e-bf9ecdf8d48e",
   "metadata": {},
   "source": [
    "### Keyword Dictionary "
   ]
  },
  {
   "cell_type": "code",
   "execution_count": 9,
   "id": "01eb3806-b9c2-4933-8ed4-d36a4bf8e1d0",
   "metadata": {},
   "outputs": [],
   "source": [
    "job_skills = {\n",
    "    \"Java Developer\": [\n",
    "        \"java\", \"spring\", \"hibernate\", \"j2ee\", \"servlets\", \"maven\", \"gradle\", \n",
    "        \"rest api\", \"oop\", \"multithreading\", \"jdbc\", \"eclipse\", \"intellij\", \n",
    "        \"junit\", \"design patterns\", \"tomcat\", \"json\", \"swagger\", \"log4j\"\n",
    "    ],\n",
    "    \"Web Designing\": [\n",
    "        \"html\", \"css\", \"javascript\", \"responsive design\", \"bootstrap\", \"figma\", \n",
    "        \"adobe xd\", \"photoshop\", \"ui/ux\", \"sass\", \"web design\", \"wireframe\", \n",
    "        \"jquery\", \"media queries\", \"svg\", \"accessibility\", \"usability testing\"\n",
    "    ],\n",
    "    \"HR\": [\n",
    "        \"recruitment\", \"onboarding\", \"payroll\", \"employee relations\", \"hrms\", \n",
    "        \"performance management\", \"interview scheduling\", \"training\", \n",
    "        \"talent acquisition\", \"benefits administration\", \"exit formalities\", \n",
    "        \"hrbp\", \"hr policy\", \"compliance\", \"grievance handling\", \"labor laws\"\n",
    "    ],\n",
    "    \"Hadoop\": [\n",
    "        \"hadoop\", \"mapreduce\", \"hdfs\", \"pig\", \"hive\", \"oozie\", \"sqoop\", \"yarn\", \n",
    "        \"big data\", \"cloudera\", \"spark\", \"data lake\", \"parquet\", \"avro\", \"flume\", \n",
    "        \"zookeeper\", \"nosql\", \"impala\"\n",
    "    ],\n",
    "    \"Data Science\": [\n",
    "        \"python\", \"machine learning\", \"pandas\", \"numpy\", \"scikit-learn\", \n",
    "        \"data analysis\", \"statistics\", \"deep learning\", \"data visualization\", \n",
    "        \"tensorflow\", \"keras\", \"matplotlib\", \"regression\", \"clustering\", \n",
    "        \"classification\", \"feature engineering\", \"nlp\", \"big data\", \"mlops\", \n",
    "        \"colab\", \"kaggle\", \"models\", \"cross-validation\", \"ai\", \"torch\", \"pytorch\"\n",
    "    ],\n",
    "    \"ETL Developer\": [\n",
    "        \"etl\", \"informatica\", \"data pipeline\", \"data warehouse\", \"ssis\", \"sql\", \n",
    "        \"data migration\", \"data extraction\", \"oracle\", \"data stage\", \"etl testing\", \n",
    "        \"data transformation\", \"snowflake\", \"airflow\", \"dwh\", \"bi tools\", \n",
    "        \"data quality\", \"scheduling\", \"scripting\", \"reporting\"\n",
    "    ],\n",
    "    \"Operations Manager\": [\n",
    "        \"operations\", \"supply chain\", \"logistics\", \"inventory\", \"management\", \n",
    "        \"process optimization\", \"vendor management\", \"erp\", \"strategic planning\", \n",
    "        \"team leadership\", \"lean\", \"six sigma\", \"kpi\", \"sla\", \"production planning\", \n",
    "        \"procurement\", \"warehouse\", \"resource allocation\"\n",
    "    ],\n",
    "    \"Database\": [\n",
    "        \"sql\", \"mysql\", \"oracle\", \"postgresql\", \"database administration\", \"dbms\", \n",
    "        \"queries\", \"normalization\", \"indexing\", \"backup\", \"nosql\", \"mongodb\", \n",
    "        \"rdbms\", \"pl/sql\", \"replication\", \"sharding\", \"tuning\", \"schemas\", \"views\"\n",
    "    ],\n",
    "    \"Electrical Engineering\": [\n",
    "        \"circuit\", \"electrical\", \"power systems\", \"embedded\", \"matlab\", \"pcb\", \n",
    "        \"electronics\", \"signal processing\", \"microcontroller\", \"simulink\", \n",
    "        \"transformer\", \"relay\", \"switchgear\", \"proteus\", \"arduino\", \"oscilloscope\"\n",
    "    ],\n",
    "    \"PMO\": [\n",
    "        \"project management\", \"pmo\", \"scheduling\", \"risk management\", \"ms project\", \n",
    "        \"stakeholder\", \"project plan\", \"scrum\", \"agile\", \"budgeting\", \n",
    "        \"resource management\", \"milestone\", \"change management\", \"status report\", \n",
    "        \"kanban\", \"timeline\"\n",
    "    ],\n",
    "    \"DotNet Developer\": [\n",
    "        \".net\", \"c#\", \"asp.net\", \"mvc\", \"entity framework\", \"visual studio\", \"linq\", \n",
    "        \"sql server\", \"webforms\", \"razor\", \"api\", \"wpf\", \"windows forms\", \"xamarin\", \n",
    "        \"nuget\", \"iis\", \"web api\", \"dotnet core\", \"blazor\"\n",
    "    ],\n",
    "    \"Business Analyst\": [\n",
    "        \"business analysis\", \"requirements gathering\", \"stakeholder\", \"user stories\", \n",
    "        \"brd\", \"frd\", \"sql\", \"process flow\", \"gap analysis\", \"agile\", \"scrum\", \n",
    "        \"jira\", \"as-is\", \"to-be\", \"mockups\", \"wireframe\", \"use case\", \n",
    "        \"data modeling\", \"rational rose\"\n",
    "    ],\n",
    "    \"Automation Testing\": [\n",
    "        \"selenium\", \"test automation\", \"pytest\", \"java\", \"testng\", \"cypress\", \n",
    "        \"automation framework\", \"junit\", \"bdd\", \"robot framework\", \"jenkins\", \n",
    "        \"ci/cd\", \"postman\", \"soapui\", \"rest assured\", \"qa\", \"test scripts\", \n",
    "        \"selenium grid\", \"maven\", \"page object model\"\n",
    "    ],\n",
    "    \"Network Security Engineer\": [\n",
    "        \"network security\", \"firewall\", \"vpn\", \"cybersecurity\", \"penetration testing\", \n",
    "        \"ids\", \"ips\", \"wireshark\", \"nmap\", \"siem\", \"tls\", \"ssl\", \"ccna\", \"ccnp\", \n",
    "        \"tcp/ip\", \"snort\", \"security audit\", \"threat hunting\", \"incident response\"\n",
    "    ],\n",
    "    \"Civil Engineer\": [\n",
    "        \"autocad\", \"civil 3d\", \"construction\", \"site supervision\", \"structural\", \n",
    "        \"quantity survey\", \"estimation\", \"concrete\", \"staad pro\", \"project planning\", \n",
    "        \"revit\", \"bar bending\", \"dpr\", \"tendering\", \"autodesk\", \"soil testing\"\n",
    "    ],\n",
    "    \"Advocate\": [\n",
    "        \"legal\", \"litigation\", \"drafting\", \"contracts\", \"legal research\", \"compliance\", \n",
    "        \"court\", \"pleading\", \"affidavit\", \"arbitration\", \"civil law\", \"criminal law\", \n",
    "        \"trademark\", \"intellectual property\", \"moot court\", \"notary\", \"bar council\", \n",
    "        \"legal notice\", \"case law\"\n",
    "    ],\n",
    "    \"Arts\": [\n",
    "        \"painting\", \"drawing\", \"sketching\", \"sculpture\", \"fine arts\", \"exhibition\",\n",
    "        \"portfolio\", \"art gallery\", \"visual arts\", \"illustration\", \"digital art\",\n",
    "        \"design\", \"creative\", \"storyboarding\", \"concept art\", \"animation\",\n",
    "        \"mixed media\", \"art history\", \"aesthetics\", \"color theory\", \"visual storytelling\"\n",
    "    ],\n",
    "    \"DevOps Engineer\": [\n",
    "        \"devops\", \"ci/cd\", \"jenkins\", \"docker\", \"kubernetes\", \"aws\", \"terraform\",\n",
    "        \"ansible\", \"linux\", \"bash\", \"scripting\", \"infrastructure as code\", \"iac\",\n",
    "        \"monitoring\", \"grafana\", \"prometheus\", \"cloud\", \"gitlab\", \"github actions\",\n",
    "        \"pipelines\", \"automation\", \"deployment\", \"logging\", \"helm\", \"containers\", \"cloudformation\"\n",
    "    ],\n",
    "    \"SAP Developer\": [\n",
    "        \"sap\", \"abap\", \"sap hana\", \"sap fico\", \"sap mm\", \"sap sd\", \"module configuration\",\n",
    "        \"bapi\", \"rfc\", \"sap workflow\", \"erp\", \"debugging\", \"sap basis\", \"idoc\", \"s/4hana\",\n",
    "        \"customizing\", \"table maintenance\", \"sap netweaver\", \"module pool\", \"badi\", \"bapi\", \"sap scripts\"\n",
    "    ],\n",
    "    \"Sales\": [\n",
    "        \"sales\", \"b2b\", \"b2c\", \"cold calling\", \"crm\", \"salesforce\", \"lead generation\",\n",
    "        \"negotiation\", \"target achievement\", \"account management\", \"client retention\",\n",
    "        \"pitching\", \"upselling\", \"cross-selling\", \"revenue generation\", \"business development\",\n",
    "        \"sales target\", \"customer acquisition\", \"market research\", \"follow-up\", \"pipeline management\"\n",
    "    ],\n",
    "    \"Health and fitness\": [\n",
    "        \"fitness\", \"health\", \"nutrition\", \"personal trainer\", \"workout\", \"exercise\",\n",
    "        \"diet\", \"strength training\", \"aerobics\", \"yoga\", \"crossfit\", \"zumba\",\n",
    "        \"wellness\", \"body transformation\", \"cardio\", \"gym trainer\", \"calisthenics\",\n",
    "        \"weight loss\", \"fitness plan\", \"certified trainer\", \"fitness coach\", \"health education\"\n",
    "    ],\n",
    "    \"Python Developer\": [\n",
    "        \"python\", \"flask\", \"django\", \"pandas\", \"numpy\", \"oop\", \"rest api\",\n",
    "        \"scripting\", \"fastapi\", \"pytest\", \"data structures\", \"jupyter\", \"sqlalchemy\",\n",
    "        \"tkinter\", \"matplotlib\", \"beautifulsoup\", \"requests\", \"pycharm\", \"unit testing\",\n",
    "        \"api integration\", \"python automation\", \"decorators\", \"lambda functions\", \"list comprehension\"\n",
    "    ],\n",
    "    \"Mechanical Engineer\": [\n",
    "        \"mechanical\", \"autocad\", \"solidworks\", \"mechanical design\", \"thermodynamics\", \"cad\",\n",
    "        \"fea\", \"ansys\", \"hvac\", \"cam\", \"gd&t\", \"creo\", \"proe\", \"catia\", \"product design\",\n",
    "        \"manufacturing\", \"tolerance analysis\", \"piping design\", \"iso 9001\", \"machine design\",\n",
    "        \"mechatronics\", \"material science\", \"3d modeling\", \"statics\", \"dynamics\"\n",
    "    ],\n",
    "    \"Blockchain\": [\n",
    "        \"blockchain\", \"ethereum\", \"smart contracts\", \"solidity\", \"web3\", \"cryptocurrency\",\n",
    "        \"nft\", \"hyperledger\", \"consensus\", \"metamask\", \"truffle\", \"ganache\", \"dapp\",\n",
    "        \"tokenomics\", \"defi\", \"staking\", \"hashing\", \"ipfs\", \"block explorer\", \"gas fee\",\n",
    "        \"smart contract audit\", \"remix ide\", \"wallet\", \"private key\", \"evm\", \"zk-snark\"\n",
    "    ]\n",
    "}\n"
   ]
  },
  {
   "cell_type": "markdown",
   "id": "1d46ec7a-5880-4d8c-8f6e-bee13ce2abaf",
   "metadata": {},
   "source": [
    "### Threshold and Labeling"
   ]
  },
  {
   "cell_type": "markdown",
   "id": "bed5d5ce-659c-4d78-b091-9cdb4b297204",
   "metadata": {},
   "source": [
    "The following code labels the dataset and the dictionary contains the threshold (the minimum fraction of total number of keywords) for each job category"
   ]
  },
  {
   "cell_type": "code",
   "execution_count": 10,
   "id": "09454544-7248-4aaa-b261-a3197745a387",
   "metadata": {},
   "outputs": [
    {
     "name": "stdout",
     "output_type": "stream",
     "text": [
      "passed = 424\n",
      "failed = 468\n"
     ]
    },
    {
     "data": {
      "text/html": [
       "<table border=\"1\" class=\"dataframe\">\n",
       "  <thead>\n",
       "    <tr style=\"text-align: right;\">\n",
       "      <th></th>\n",
       "      <th>Shortlisted</th>\n",
       "      <th>Not Shortlisted</th>\n",
       "      <th>Shortlisted</th>\n",
       "      <th>Total</th>\n",
       "      <th>Percentage_passed</th>\n",
       "    </tr>\n",
       "    <tr>\n",
       "      <th>Category</th>\n",
       "      <th></th>\n",
       "      <th></th>\n",
       "      <th></th>\n",
       "      <th></th>\n",
       "      <th></th>\n",
       "    </tr>\n",
       "  </thead>\n",
       "  <tbody>\n",
       "    <tr>\n",
       "      <th>Advocate</th>\n",
       "      <td>8</td>\n",
       "      <td>12</td>\n",
       "      <td>8</td>\n",
       "      <td>20</td>\n",
       "      <td>40.00</td>\n",
       "    </tr>\n",
       "    <tr>\n",
       "      <th>Arts</th>\n",
       "      <td>12</td>\n",
       "      <td>24</td>\n",
       "      <td>12</td>\n",
       "      <td>36</td>\n",
       "      <td>33.33</td>\n",
       "    </tr>\n",
       "    <tr>\n",
       "      <th>Automation Testing</th>\n",
       "      <td>10</td>\n",
       "      <td>16</td>\n",
       "      <td>10</td>\n",
       "      <td>26</td>\n",
       "      <td>38.46</td>\n",
       "    </tr>\n",
       "    <tr>\n",
       "      <th>Blockchain</th>\n",
       "      <td>16</td>\n",
       "      <td>24</td>\n",
       "      <td>16</td>\n",
       "      <td>40</td>\n",
       "      <td>40.00</td>\n",
       "    </tr>\n",
       "    <tr>\n",
       "      <th>Business Analyst</th>\n",
       "      <td>12</td>\n",
       "      <td>16</td>\n",
       "      <td>12</td>\n",
       "      <td>28</td>\n",
       "      <td>42.86</td>\n",
       "    </tr>\n",
       "    <tr>\n",
       "      <th>Civil Engineer</th>\n",
       "      <td>8</td>\n",
       "      <td>16</td>\n",
       "      <td>8</td>\n",
       "      <td>24</td>\n",
       "      <td>33.33</td>\n",
       "    </tr>\n",
       "    <tr>\n",
       "      <th>Data Science</th>\n",
       "      <td>24</td>\n",
       "      <td>16</td>\n",
       "      <td>24</td>\n",
       "      <td>40</td>\n",
       "      <td>60.00</td>\n",
       "    </tr>\n",
       "    <tr>\n",
       "      <th>Database</th>\n",
       "      <td>15</td>\n",
       "      <td>18</td>\n",
       "      <td>15</td>\n",
       "      <td>33</td>\n",
       "      <td>45.45</td>\n",
       "    </tr>\n",
       "    <tr>\n",
       "      <th>DevOps Engineer</th>\n",
       "      <td>17</td>\n",
       "      <td>38</td>\n",
       "      <td>17</td>\n",
       "      <td>55</td>\n",
       "      <td>30.91</td>\n",
       "    </tr>\n",
       "    <tr>\n",
       "      <th>DotNet Developer</th>\n",
       "      <td>16</td>\n",
       "      <td>12</td>\n",
       "      <td>16</td>\n",
       "      <td>28</td>\n",
       "      <td>57.14</td>\n",
       "    </tr>\n",
       "    <tr>\n",
       "      <th>ETL Developer</th>\n",
       "      <td>24</td>\n",
       "      <td>16</td>\n",
       "      <td>24</td>\n",
       "      <td>40</td>\n",
       "      <td>60.00</td>\n",
       "    </tr>\n",
       "    <tr>\n",
       "      <th>Electrical Engineering</th>\n",
       "      <td>12</td>\n",
       "      <td>18</td>\n",
       "      <td>12</td>\n",
       "      <td>30</td>\n",
       "      <td>40.00</td>\n",
       "    </tr>\n",
       "    <tr>\n",
       "      <th>HR</th>\n",
       "      <td>8</td>\n",
       "      <td>36</td>\n",
       "      <td>8</td>\n",
       "      <td>44</td>\n",
       "      <td>18.18</td>\n",
       "    </tr>\n",
       "    <tr>\n",
       "      <th>Hadoop</th>\n",
       "      <td>24</td>\n",
       "      <td>18</td>\n",
       "      <td>24</td>\n",
       "      <td>42</td>\n",
       "      <td>57.14</td>\n",
       "    </tr>\n",
       "    <tr>\n",
       "      <th>Health and fitness</th>\n",
       "      <td>15</td>\n",
       "      <td>15</td>\n",
       "      <td>15</td>\n",
       "      <td>30</td>\n",
       "      <td>50.00</td>\n",
       "    </tr>\n",
       "    <tr>\n",
       "      <th>Java Developer</th>\n",
       "      <td>42</td>\n",
       "      <td>42</td>\n",
       "      <td>42</td>\n",
       "      <td>84</td>\n",
       "      <td>50.00</td>\n",
       "    </tr>\n",
       "    <tr>\n",
       "      <th>Mechanical Engineer</th>\n",
       "      <td>24</td>\n",
       "      <td>16</td>\n",
       "      <td>24</td>\n",
       "      <td>40</td>\n",
       "      <td>60.00</td>\n",
       "    </tr>\n",
       "    <tr>\n",
       "      <th>Network Security Engineer</th>\n",
       "      <td>10</td>\n",
       "      <td>15</td>\n",
       "      <td>10</td>\n",
       "      <td>25</td>\n",
       "      <td>40.00</td>\n",
       "    </tr>\n",
       "    <tr>\n",
       "      <th>Operations Manager</th>\n",
       "      <td>20</td>\n",
       "      <td>20</td>\n",
       "      <td>20</td>\n",
       "      <td>40</td>\n",
       "      <td>50.00</td>\n",
       "    </tr>\n",
       "    <tr>\n",
       "      <th>PMO</th>\n",
       "      <td>20</td>\n",
       "      <td>10</td>\n",
       "      <td>20</td>\n",
       "      <td>30</td>\n",
       "      <td>66.67</td>\n",
       "    </tr>\n",
       "    <tr>\n",
       "      <th>Python Developer</th>\n",
       "      <td>24</td>\n",
       "      <td>24</td>\n",
       "      <td>24</td>\n",
       "      <td>48</td>\n",
       "      <td>50.00</td>\n",
       "    </tr>\n",
       "    <tr>\n",
       "      <th>SAP Developer</th>\n",
       "      <td>12</td>\n",
       "      <td>12</td>\n",
       "      <td>12</td>\n",
       "      <td>24</td>\n",
       "      <td>50.00</td>\n",
       "    </tr>\n",
       "    <tr>\n",
       "      <th>Sales</th>\n",
       "      <td>24</td>\n",
       "      <td>16</td>\n",
       "      <td>24</td>\n",
       "      <td>40</td>\n",
       "      <td>60.00</td>\n",
       "    </tr>\n",
       "    <tr>\n",
       "      <th>Web Designing</th>\n",
       "      <td>27</td>\n",
       "      <td>18</td>\n",
       "      <td>27</td>\n",
       "      <td>45</td>\n",
       "      <td>60.00</td>\n",
       "    </tr>\n",
       "  </tbody>\n",
       "</table>"
      ],
      "text/plain": [
       "<IPython.core.display.HTML object>"
      ]
     },
     "execution_count": 10,
     "metadata": {},
     "output_type": "execute_result"
    }
   ],
   "source": [
    "category_thresholds = {\n",
    "    \"Java Developer\": 20,\n",
    "    \"Python Developer\": 20,\n",
    "    \"DotNet Developer\": 30,\n",
    "    \"Web Designing\": 40,\n",
    "    \"DevOps Engineer\": 30,\n",
    "    \"Data Science\": 20,\n",
    "    \"ETL Developer\": 30,\n",
    "    \"Hadoop\": 60,\n",
    "    \"Database\": 30,\n",
    "    \"SAP Developer\": 10,\n",
    "    \"HR\": 5,\n",
    "    \"Operations Manager\": 25,\n",
    "    \"PMO\": 30,\n",
    "    \"Mechanical Engineer\": 20,\n",
    "    \"Electrical Engineering\": 30,\n",
    "    \"Civil Engineer\": 30,\n",
    "    \"Automation Testing\": 30,\n",
    "    \"Business Analyst\": 30,\n",
    "    \"Network Security Engineer\": 30,\n",
    "    \"Blockchain\": 20,\n",
    "    \"Sales\": 9,\n",
    "    \"Health and fitness\": 15,\n",
    "    \"Arts\": 10,\n",
    "    \"Advocate\": 15\n",
    "}\n",
    "\n",
    "\n",
    "\n",
    "def label_resume(text, category, job_skills, category_thresholds):\n",
    "    text = text.lower()\n",
    "    skills = job_skills.get(category, [])\n",
    "    match_count = sum(skill in text for skill in skills)\n",
    "    threshold = len(skills) * category_thresholds[category]/100\n",
    "    return 1 if match_count >= threshold else 0\n",
    "\n",
    "# Apply labeling manually using a loop\n",
    "labels = []\n",
    "count = 0\n",
    "for _, row in df.iterrows():\n",
    "    label = label_resume(row['Resume'], row['Category'], job_skills, category_thresholds)\n",
    "    count += label\n",
    "    labels.append(label)\n",
    "df['Shortlisted'] = labels\n",
    "print(\"passed =\", count)\n",
    "print(\"failed =\", len(labels) - count)\n",
    "\n",
    "summary = df.groupby('Category')['Shortlisted'].agg(\n",
    "    Shortlisted='sum',\n",
    "    Total='count'\n",
    ")\n",
    "summary['Not Shortlisted'] = summary['Total'] - summary['Shortlisted']\n",
    "summary['Percentage_passed'] = (summary['Shortlisted'] / summary['Total'] * 100).round(2)\n",
    "summary = summary[['Shortlisted', 'Not Shortlisted', 'Shortlisted', 'Total', \"Percentage_passed\" ]]\n",
    "# print(summary[summary[\"Percentage_passed\"]<50])\n",
    "HTML(summary.to_html())"
   ]
  },
  {
   "cell_type": "code",
   "execution_count": 11,
   "id": "c4970bbf-4ce0-46e1-abfb-d738b8abfa31",
   "metadata": {},
   "outputs": [
    {
     "data": {
      "text/html": [
       "<div>\n",
       "<style scoped>\n",
       "    .dataframe tbody tr th:only-of-type {\n",
       "        vertical-align: middle;\n",
       "    }\n",
       "\n",
       "    .dataframe tbody tr th {\n",
       "        vertical-align: top;\n",
       "    }\n",
       "\n",
       "    .dataframe thead th {\n",
       "        text-align: right;\n",
       "    }\n",
       "</style>\n",
       "<table border=\"1\" class=\"dataframe\">\n",
       "  <thead>\n",
       "    <tr style=\"text-align: right;\">\n",
       "      <th></th>\n",
       "      <th>Category</th>\n",
       "      <th>Resume</th>\n",
       "      <th>Shortlisted</th>\n",
       "    </tr>\n",
       "  </thead>\n",
       "  <tbody>\n",
       "    <tr>\n",
       "      <th>0</th>\n",
       "      <td>Data Science</td>\n",
       "      <td>skills programming languages python pandas, nu...</td>\n",
       "      <td>1</td>\n",
       "    </tr>\n",
       "    <tr>\n",
       "      <th>1</th>\n",
       "      <td>Data Science</td>\n",
       "      <td>education details may 2013 to may 2017 b.e uit...</td>\n",
       "      <td>1</td>\n",
       "    </tr>\n",
       "    <tr>\n",
       "      <th>2</th>\n",
       "      <td>Data Science</td>\n",
       "      <td>areas of interest deep learning, control syste...</td>\n",
       "      <td>0</td>\n",
       "    </tr>\n",
       "    <tr>\n",
       "      <th>3</th>\n",
       "      <td>Data Science</td>\n",
       "      <td>skills r python sap hana tableau sap hana sql ...</td>\n",
       "      <td>1</td>\n",
       "    </tr>\n",
       "    <tr>\n",
       "      <th>4</th>\n",
       "      <td>Data Science</td>\n",
       "      <td>education details mca ymcaust, faridabad, hary...</td>\n",
       "      <td>0</td>\n",
       "    </tr>\n",
       "    <tr>\n",
       "      <th>...</th>\n",
       "      <td>...</td>\n",
       "      <td>...</td>\n",
       "      <td>...</td>\n",
       "    </tr>\n",
       "    <tr>\n",
       "      <th>887</th>\n",
       "      <td>Blockchain</td>\n",
       "      <td>hobbies playing chess solving rubiks cube watc...</td>\n",
       "      <td>0</td>\n",
       "    </tr>\n",
       "    <tr>\n",
       "      <th>888</th>\n",
       "      <td>Blockchain</td>\n",
       "      <td>skills strong cs fundamentals and problem solv...</td>\n",
       "      <td>1</td>\n",
       "    </tr>\n",
       "    <tr>\n",
       "      <th>889</th>\n",
       "      <td>Blockchain</td>\n",
       "      <td>key skills programing languages c, c, python, ...</td>\n",
       "      <td>0</td>\n",
       "    </tr>\n",
       "    <tr>\n",
       "      <th>890</th>\n",
       "      <td>Blockchain</td>\n",
       "      <td>software skills languages c, c java operating ...</td>\n",
       "      <td>1</td>\n",
       "    </tr>\n",
       "    <tr>\n",
       "      <th>891</th>\n",
       "      <td>Blockchain</td>\n",
       "      <td>skills bitcoin, ethereum solidity hyperledger,...</td>\n",
       "      <td>0</td>\n",
       "    </tr>\n",
       "  </tbody>\n",
       "</table>\n",
       "<p>892 rows × 3 columns</p>\n",
       "</div>"
      ],
      "text/plain": [
       "         Category                                             Resume  \\\n",
       "0    Data Science  skills programming languages python pandas, nu...   \n",
       "1    Data Science  education details may 2013 to may 2017 b.e uit...   \n",
       "2    Data Science  areas of interest deep learning, control syste...   \n",
       "3    Data Science  skills r python sap hana tableau sap hana sql ...   \n",
       "4    Data Science  education details mca ymcaust, faridabad, hary...   \n",
       "..            ...                                                ...   \n",
       "887    Blockchain  hobbies playing chess solving rubiks cube watc...   \n",
       "888    Blockchain  skills strong cs fundamentals and problem solv...   \n",
       "889    Blockchain  key skills programing languages c, c, python, ...   \n",
       "890    Blockchain  software skills languages c, c java operating ...   \n",
       "891    Blockchain  skills bitcoin, ethereum solidity hyperledger,...   \n",
       "\n",
       "     Shortlisted  \n",
       "0              1  \n",
       "1              1  \n",
       "2              0  \n",
       "3              1  \n",
       "4              0  \n",
       "..           ...  \n",
       "887            0  \n",
       "888            1  \n",
       "889            0  \n",
       "890            1  \n",
       "891            0  \n",
       "\n",
       "[892 rows x 3 columns]"
      ]
     },
     "execution_count": 11,
     "metadata": {},
     "output_type": "execute_result"
    }
   ],
   "source": [
    "df"
   ]
  },
  {
   "cell_type": "markdown",
   "id": "bd928ec7-9368-4ac6-a5e8-93358cf1d587",
   "metadata": {},
   "source": [
    "## Encoding Labels"
   ]
  },
  {
   "cell_type": "code",
   "execution_count": 12,
   "id": "19d3f9a2-a064-48e8-b735-0502ed1139cd",
   "metadata": {},
   "outputs": [
    {
     "name": "stdout",
     "output_type": "stream",
     "text": [
      "24\n"
     ]
    }
   ],
   "source": [
    "label_encoder = LabelEncoder()\n",
    "df['Category'] = label_encoder.fit_transform(df['Category'])\n",
    "num_classes = len(label_encoder.classes_)\n",
    "print(num_classes)"
   ]
  },
  {
   "cell_type": "markdown",
   "id": "c484a4e6-cd03-49bf-95b1-a17eec55490e",
   "metadata": {},
   "source": [
    "# Text Branch"
   ]
  },
  {
   "cell_type": "markdown",
   "id": "943208b6-c72b-48e7-8f1d-e0acd0ea2b51",
   "metadata": {},
   "source": [
    "## DataLoader"
   ]
  },
  {
   "cell_type": "markdown",
   "id": "fc4afeba-89ee-4624-bf17-39d3fed79bdd",
   "metadata": {},
   "source": [
    "So the idea is to split the tokenized text into **multiple overlapping chunks** and pass it to the network, where the network will encode it and later we stack them together and do something. I haven't got this idea at first and i spent a lot of time tring to reduce the text, like removing the stop words, using a bigger encoder that takes larger number of tokens at a time, etc, etc and later i relaised that they weren't running in my laptop and then i switched by to bert, where I learned that bert require those stop words, yeah, so i kind of spent a lot of time in the wrong direction."
   ]
  },
  {
   "cell_type": "code",
   "execution_count": 13,
   "id": "fd0717a6-b776-48cc-aa0a-3b1fbcdbe1c8",
   "metadata": {},
   "outputs": [],
   "source": [
    "class TextBranchDataset(Dataset):\n",
    "    def __init__(self, texts, labels, cls, tokenizer, window_size=128, stride=64, max_chunks=10):\n",
    "        self.texts = texts\n",
    "        self.labels = labels\n",
    "        self.cls = cls\n",
    "        self.tokenizer = tokenizer\n",
    "        self.window_size = window_size\n",
    "        self.stride = stride\n",
    "        self.max_chunks = max_chunks\n",
    "\n",
    "    def tokenize_and_chunk(self, text):\n",
    "        tokens = self.tokenizer.encode(text, add_special_tokens=False)\n",
    "        chunks = []\n",
    "        if len(tokens) <= self.window_size :\n",
    "            return [[self.tokenizer.cls_token_id] + tokens + [self.tokenizer.sep_token_id]]\n",
    "        for i in range(0, len(tokens) - self.window_size + 1, self.stride):\n",
    "            j = i + self.window_size if i + self.window_size < len(tokens) else len(tokens)\n",
    "            chunk = tokens[i:j]\n",
    "            chunk = [self.tokenizer.cls_token_id] + chunk + [self.tokenizer.sep_token_id]\n",
    "            if(len(chunk)>130):\n",
    "                print(\"Something went wrong\")\n",
    "            chunks.append(chunk)\n",
    "            if len(chunks) >= self.max_chunks or j == len(tokens):\n",
    "                break\n",
    "        return chunks\n",
    "\n",
    "    def __len__(self):\n",
    "        return len(self.texts)\n",
    "        \n",
    "    def __getitem__(self, idx):\n",
    "        text = self.texts[idx]\n",
    "        label = self.labels[idx]\n",
    "        cls = self.cls[idx]\n",
    "        chunks = self.tokenize_and_chunk(text)\n",
    "        return chunks, label, cls"
   ]
  },
  {
   "cell_type": "markdown",
   "id": "ab421593-ae6a-4a10-8849-471bd92cbbc1",
   "metadata": {},
   "source": [
    "## Train, Test Split"
   ]
  },
  {
   "cell_type": "markdown",
   "id": "e3d97cc5-bce2-4b08-8f44-0280c8537fea",
   "metadata": {},
   "source": [
    "Yeah, so i first split it into train, dev and test, and i ended up not using the dev at all, so i changed it back."
   ]
  },
  {
   "cell_type": "code",
   "execution_count": 14,
   "id": "7fcd255b-d8bf-4735-806c-dd75c8239d04",
   "metadata": {},
   "outputs": [],
   "source": [
    "tokenizer = BertTokenizer.from_pretrained('bert-base-uncased')\n",
    "texts = df[\"Resume\"].tolist()\n",
    "labels = df[\"Shortlisted\"].tolist()\n",
    "cls = df[\"Category\"].tolist()\n",
    "\n",
    "# First split: 80% Train, 20% Temp (Dev+Test)\n",
    "train_texts, test_texts, train_labels, test_labels, train_cls, test_cls = train_test_split(\n",
    "    texts, labels, cls, test_size=0.2, random_state=42, stratify=labels\n",
    ")\n",
    "\n",
    "# Second split: 50% Dev, 50% Test -> 10% each\n",
    "# dev_texts, test_texts, dev_labels, test_labels, dev_cls, test_cls = train_test_split(\n",
    "#     temp_texts, temp_labels, temp_cls, test_size=0.5, random_state=42, stratify=temp_labels\n",
    "# )\n",
    "\n",
    "text_train_dataset = TextBranchDataset(train_texts, train_labels, train_cls, tokenizer)\n",
    "# text_dev_dataset   = TextBranchDataset(dev_texts, dev_labels, dev_cls, tokenizer)\n",
    "text_test_dataset  = TextBranchDataset(test_texts, test_labels, test_cls, tokenizer)\n",
    "\n",
    "text_train_loader = DataLoader(text_train_dataset, batch_size=1, shuffle=True)\n",
    "# text_dev_loader   = DataLoader(dev_dataset, batch_size=1)\n",
    "text_test_loader  = DataLoader(text_test_dataset, batch_size=1)"
   ]
  },
  {
   "cell_type": "markdown",
   "id": "679c943e-1f0b-4bd3-8f96-7b0f90f161e2",
   "metadata": {},
   "source": [
    "## Classifying Model"
   ]
  },
  {
   "cell_type": "markdown",
   "id": "b0a5cbc8-d402-4b74-a369-efefc6047302",
   "metadata": {},
   "source": [
    "After embeding each chunk using pretrained bert i stacked all the chunk embeddings together, which gives an output of shape `(n_chunks, seq_len, 768)` and then i transposed and passed it to a 1 dimensional Convolutional Layer giving an output of shape `(n_chunks, conv_out, seq_len)`, which learns things within each chunk and passed this thorugh an adaptive pooling layer which takes the maximum along each `seq_len` dimension and then i take the mean of all these chunks, which is fed into a feedforward neural network classifier.\n",
    "\n",
    "The overall model outputs the probabilities for getting shortlisted in each job catogery."
   ]
  },
  {
   "cell_type": "code",
   "execution_count": 15,
   "id": "707f316c-2949-4c06-833d-a58d8d7f3a43",
   "metadata": {},
   "outputs": [],
   "source": [
    "class TextBranch(nn.Module):\n",
    "    def __init__(self, num_classes, conv_out = 512):\n",
    "        super().__init__()\n",
    "        self.bert = BertModel.from_pretrained('bert-base-uncased')\n",
    "        self.conv = nn.Conv1d(in_channels=768, out_channels= conv_out, kernel_size= 5, padding= 2)\n",
    "        self.pool = nn.AdaptiveMaxPool1d(1)\n",
    "        self.classifier = nn.Sequential(\n",
    "            nn.Linear(512, 256),\n",
    "            nn.ReLU(),\n",
    "            nn.Dropout(0.3),\n",
    "            nn.Linear(256, 128),\n",
    "            nn.ReLU(),\n",
    "            nn.Dropout(0.3),\n",
    "        )\n",
    "        self.last_layer = nn.Linear(128, num_classes)\n",
    "    def forward(self, input_chunks):  # input_chunks: list of [n_chunks x seq_len] tensors\n",
    "        chunk_embeddings = []\n",
    "        with torch.no_grad():  # freeze BERT\n",
    "            for chunk in input_chunks:\n",
    "\n",
    "                if not isinstance(chunk, torch.Tensor):\n",
    "                    chunk = torch.tensor(chunk)  #.to(device)\n",
    "\n",
    "                # chunk = torch.tensor(chunk).to(device)\n",
    "                input_ids = chunk.unsqueeze(0).to(next(self.parameters()).device) # storing a chunk in the device\n",
    "                attention_mask = torch.ones_like(input_ids)  # generating the attention masks for the chunk\n",
    "\n",
    "                outputs = self.bert(input_ids=input_ids, attention_mask=attention_mask) # passing the chunk to the bert model\n",
    "                token_embeddings = outputs.last_hidden_state.squeeze(0)  # output of bert (seq_len, 768)\n",
    "                chunk_embeddings.append(token_embeddings) # appending the output of bert to the chunk embeddings\n",
    "\n",
    "        x = torch.stack(chunk_embeddings)          # (n_chunks, seq_len, 768), stacking the chunks\n",
    "        x = x.permute(0, 2, 1)                     # (n_chunks, 768, seq_len)\n",
    "        x = self.conv(x)                           # (n_chunks, conv_out, seq_len)\n",
    "        x = F.relu(x)                              # (n_chunks, conv_out, seq_len)\n",
    "        x = self.pool(x).squeeze(-1)               # (n_chunks, conv_out)\n",
    "        x = x.mean(dim=0, keepdim=True)            # (1, conv_out)\n",
    "        last = self.classifier(x)\n",
    "        x = self.last_layer(last)\n",
    "        output = F.sigmoid(x)\n",
    "        return last, output.squeeze(0)"
   ]
  },
  {
   "cell_type": "markdown",
   "id": "16f0a977-4bb7-4c22-aab7-e46d42a15b86",
   "metadata": {},
   "source": [
    "## Training"
   ]
  },
  {
   "cell_type": "markdown",
   "id": "0a85d7c0-67ca-4df8-a7fd-297f378cd8f4",
   "metadata": {},
   "source": [
    "After every hundred examples, i printed out the number of hundreds in the progress column to check the pregress. I dont understand why i get this warning message not have, where input chunk is clearly of atmost 130 tokens"
   ]
  },
  {
   "cell_type": "code",
   "execution_count": 16,
   "id": "f9749a98-706b-41eb-aec6-b1b935e915d7",
   "metadata": {},
   "outputs": [
    {
     "name": "stdout",
     "output_type": "stream",
     "text": [
      "Progress  Epoch       Loss        Accuracy    Recall    \n",
      "    0"
     ]
    },
    {
     "name": "stderr",
     "output_type": "stream",
     "text": [
      "Token indices sequence length is longer than the specified maximum sequence length for this model (2565 > 512). Running this sequence through the model will result in indexing errors\n"
     ]
    },
    {
     "name": "stdout",
     "output_type": "stream",
     "text": [
      "    7       1       90.6709        52.73%     50.32%\n",
      "    7       2       65.6365        52.88%     50.44%\n",
      "    7       3       44.1077        60.17%     58.14%\n",
      "    7       4       29.5190        71.11%     69.69%\n",
      "    7       5       16.1302        83.17%     82.33%\n",
      "    7       6        9.5697        90.60%     90.16%\n",
      "    7       7        6.1790        94.11%     93.83%\n",
      "    7       8        4.5705        95.79%     95.63%\n",
      "    7       9        2.3667        98.04%     97.94%\n",
      "    7      10        1.6456        99.02%     98.98%\n"
     ]
    }
   ],
   "source": [
    "if not load_pretrained_model:\n",
    "    device = torch.device('cuda' if torch.cuda.is_available() else 'cpu')\n",
    "    \n",
    "    text_model = TextBranch(num_classes).to(device)\n",
    "    \n",
    "    criterion = nn.BCELoss()\n",
    "    optimizer = torch.optim.Adam(text_model.parameters(), lr=2e-4)\n",
    "    \n",
    "    print(f\"{'Progress':<10}{'Epoch':<12}{'Loss':<12}{'Accuracy':<12}{'Recall':<10}\")\n",
    "    \n",
    "    # Training loop\n",
    "    for epoch in range(10):\n",
    "        predicted = []\n",
    "        target = []\n",
    "        count = 0\n",
    "        text_model.train()\n",
    "        total_loss = 0\n",
    "        for batch in text_train_loader:\n",
    "            if count %100 == 0:\n",
    "                print(f\"\\r{count//100:>5}\", end=\"\")\n",
    "            count += 1\n",
    "            chunks, label, cls = batch  # since batch_size = 1\n",
    "            # print(len(chunks))\n",
    "            if(len(chunks) == 0):\n",
    "                continue\n",
    "                \n",
    "            optimizer.zero_grad()\n",
    "            _, output = text_model(chunks)  # shape: (num_classes,)\n",
    "            label_tensor = torch.tensor(\n",
    "                [float(label) if x == cls else 0.0 for x in range(num_classes)],\n",
    "                device=device\n",
    "            )\n",
    "    \n",
    "            loss = criterion(output, label_tensor)\n",
    "            loss.backward()\n",
    "            optimizer.step()\n",
    "    \n",
    "            total_loss += loss.item()\n",
    "            pred = int(output.tolist()[cls] > 0.5)\n",
    "            out = label\n",
    "            # print(\"Predicted shape:\", np.array(pred).shape, end = \"\\t\")\n",
    "            # print(\"Target shape:\", np.array(out).shape)\n",
    "            predicted.append(pred)\n",
    "            target.append(out)\n",
    "    \n",
    "        acc = accuracy_score(target, predicted)\n",
    "        recall = recall_score(target, predicted, average='macro')\n",
    "        print(f\"{epoch+1:>8}{total_loss:>14.4f}{acc*100:>13.2f}%{recall*100:>10.2f}%\")\n",
    "        \n",
    "    beep()\n",
    "else:\n",
    "    text_model = TextBranch(num_classes)\n",
    "    text_model.load_state_dict(torch.load('textbranch_weights.pth'))"
   ]
  },
  {
   "cell_type": "markdown",
   "id": "c1f6817a-1af0-4661-9e4b-128d9b20f2c4",
   "metadata": {},
   "source": [
    "The generated output for training the model, in case if you are using the pre trained model\n",
    "| Progress | Epoch |   Loss   | Accuracy | Recall  |\n",
    "|----------|--------|----------|----------|---------|\n",
    "|    7     |   1    | 90.6709  |  52.73%  | 50.32% |\n",
    "|    7     |   2    | 65.6365  |  52.88%  | 50.44% |\n",
    "|    7     |   3    | 44.1077  |  60.17%  | 58.14% |\n",
    "|    7     |   4    | 29.5190  |  71.11%  | 69.69% |\n",
    "|    7     |   5    | 16.1302  |  83.17%  | 82.33% |\n",
    "|    7     |   6    |  9.5697  |  90.60%  | 90.16% |\n",
    "|    7     |   7    |  6.1790  |  94.11%  | 93.83% |\n",
    "|    7     |   8    |  4.5705  |  95.79%  | 95.63% |\n",
    "|    7     |   9    |  2.3667  |  98.04%  | 97.94% |\n",
    "|    7     |  10    |  1.6456  |  99.02%  | 98.98% |\n"
   ]
  },
  {
   "cell_type": "markdown",
   "id": "702b4603-770c-4be7-bff3-d7d86b3e1b7d",
   "metadata": {},
   "source": [
    "## Test resluts"
   ]
  },
  {
   "cell_type": "code",
   "execution_count": 17,
   "id": "7bc29da7-86bc-42cc-bec1-26659b9d1460",
   "metadata": {},
   "outputs": [
    {
     "name": "stdout",
     "output_type": "stream",
     "text": [
      "Validation Accuracy : 97.7654%\n",
      "Validation Recall : 97.6471%\n"
     ]
    }
   ],
   "source": [
    "text_model.eval()\n",
    "\n",
    "predicted = []\n",
    "targets = []\n",
    "\n",
    "with torch.no_grad():\n",
    "    for batch in text_test_loader:\n",
    "        chunks, label, cls = batch  # since batch_size = 1\n",
    "\n",
    "        _, output = text_model(chunks)\n",
    "        output = output.tolist()\n",
    "        # print(preds, \"and\", label)\n",
    "        pred = int(output[cls] > 0.5)\n",
    "        out = label           # assuming labels are one-hot\n",
    "\n",
    "        predicted.append(pred)\n",
    "        targets.append(out)\n",
    "\n",
    "# Accuracy using sklearn\n",
    "accuracy = accuracy_score(predicted, targets)\n",
    "print(f\"Validation Accuracy : {accuracy*100:.4f}%\")\n",
    "\n",
    "# Recall using sklearn\n",
    "recall = recall_score(targets, predicted, average='macro')  # or 'weighted' if class imbalance\n",
    "print(f\"Validation Recall : {recall*100:.4f}%\")\n"
   ]
  },
  {
   "cell_type": "code",
   "execution_count": 18,
   "id": "14220fb5-8067-41b3-b30a-71bc999f38d2",
   "metadata": {},
   "outputs": [],
   "source": [
    "# Save only the model parameters (recommended)\n",
    "torch.save(text_model.state_dict(), 'textbranch_weights.pth')\n"
   ]
  },
  {
   "cell_type": "markdown",
   "id": "f2d633ff-dd05-4ce5-8387-9ec7196781c0",
   "metadata": {},
   "source": [
    "# Tabular Branch"
   ]
  },
  {
   "cell_type": "markdown",
   "id": "7a4d0891-5e5d-4a38-90b1-37fb3d9722ce",
   "metadata": {},
   "source": [
    "## Profile Feature Extaction"
   ]
  },
  {
   "cell_type": "markdown",
   "id": "96414dc1-6fb5-47cd-ac42-c2c2cffd3408",
   "metadata": {},
   "source": [
    "After manually viewing some good number of training examples i came up with the following sections\n",
    "- skills\n",
    "- skill details\n",
    "- education\n",
    "- company details\n",
    "- projects\n",
    "\n",
    "And each section name has synomys so i used regex to get them too. The following are the synonmys that i considered\n",
    "- **skills**: skills, technical skills, personal skills\n",
    "- **skill details**: skill details, experience\n",
    "- **education**: education\n",
    "- **company details**: company details, company description, work experience, work experince, employment, industry\n",
    "- **projects**: projects, project, technology assisted review, developed\n",
    "\n",
    "For each section i search if there synonyms are present are not, if yes i add there position and the section name to my found list, later i sort this w.r.t to the positions and gather all the text between two tuples and ofcourse if the adjacent tuples are are of same section i skip the later tuple and keep going and gatering the text in between until i reach a tuple from different section or the end of my found list and then i add them to my new_sec dict, which i can return or append it to an exsisting dictionary. And also if i didn't find any such sections then it just an empty string\n",
    "\n",
    "In this way i have divide the resume into different sections and storeed them as a pandas DataFrame."
   ]
  },
  {
   "cell_type": "code",
   "execution_count": 19,
   "id": "0aa32ad9-3f57-4db7-801b-7f6c0d6731f8",
   "metadata": {},
   "outputs": [],
   "source": [
    "sections = {\n",
    "    \"skills\": [],\n",
    "    \"skill details\": [],\n",
    "    \"education\": [],\n",
    "    \"company details\": [],\n",
    "    \"projects\": []\n",
    "    # \"tools\": []\n",
    "}\n",
    "def extract_relevant_sections(text, sections = None):\n",
    "    found = []\n",
    "\n",
    "    section_patterns = { \n",
    "        \"skills\": r\"(skills|technical skills|personal skills)\",\n",
    "        \"skill details\": r\"(skill details|experience)\",\n",
    "        \"education\": r\"education\",\n",
    "        \"company details\": r\"(company details|company description|work experience|work experince|employment|industry)\",\n",
    "        \"projects\": r\"(projects|project|technology assisted review|developed)\"\n",
    "    }\n",
    "\n",
    "    new_sec = {key: \"\" for key in section_patterns if key is not None}\n",
    "    \n",
    "    for section, pattern in section_patterns.items():\n",
    "        matchs = re.finditer(pattern, text)\n",
    "        if matchs is not None:\n",
    "            for match in matchs:\n",
    "                found.append((match.start(), section))\n",
    "\n",
    "    found.sort()\n",
    "    i =0\n",
    "    while i < len(found):\n",
    "        start = found[i][0]\n",
    "        j= i+1\n",
    "        while(j<len(found) and found[j][1]==found[i][1]):\n",
    "            j += 1\n",
    "        end = found[j][0] if j < len(found) else len(text)\n",
    "        section_name = found[i][1]\n",
    "        new_sec[section_name] += text[start:end]\n",
    "        i =j\n",
    "    if sections is None:\n",
    "        return new_sec\n",
    "    else:\n",
    "        for key, value in new_sec.items():\n",
    "            sections[key].append(value)\n",
    "# x = extract_relevant_sections(df[\"Resume\"][8])\n",
    "# for key, value in x.items():\n",
    "#     print(key, end= \" :\\n\\n\")\n",
    "#     print(value, end= \"\\n\\n\\n\")\n",
    "            \n",
    "df[\"Resume\"].apply(lambda x: extract_relevant_sections(x, sections))\n",
    "\n",
    "sdf = pd.DataFrame(sections)\n",
    "sdf[\"Category\"] = df[\"Category\"]\n",
    "sdf[\"Shortlisted\"] = df[\"Shortlisted\"]\n",
    "cols = ['Category'] + [col for col in sdf.columns if col != 'Category']\n",
    "sdf = sdf[cols]\n",
    "# HTML(sdf.to_html())\n",
    "\n",
    "\n",
    "# resume = df['Resume'][0]\n",
    "# extract_relevant_sections(resume)\n",
    "\n",
    "# for key, value in sections.items():\n",
    "#     print(key,\":\", end = \"\\n\\n\")\n",
    "#     print(value, end=\"\\n\\n\\n\")\n",
    "# print(\"\\n\\n=================================================================================================================================================================\\n\\n\\n\")\n",
    "# print(resume)"
   ]
  },
  {
   "cell_type": "markdown",
   "id": "a2b79d4d-e71d-4b2a-a532-e3f86f6ca5d3",
   "metadata": {},
   "source": [
    "## Encoding Labels"
   ]
  },
  {
   "cell_type": "code",
   "execution_count": 20,
   "id": "433cfe49-3c13-4610-a048-691d201087f4",
   "metadata": {},
   "outputs": [
    {
     "name": "stdout",
     "output_type": "stream",
     "text": [
      "24\n"
     ]
    }
   ],
   "source": [
    "label_encoder = LabelEncoder()\n",
    "sdf['Category'] = label_encoder.fit_transform(sdf['Category'])\n",
    "num_classes = len(label_encoder.classes_)\n",
    "print(num_classes)"
   ]
  },
  {
   "cell_type": "markdown",
   "id": "c74759a0-eb31-4faf-beb9-869d427f71f1",
   "metadata": {},
   "source": [
    "## DataLoader"
   ]
  },
  {
   "cell_type": "markdown",
   "id": "e991c408-efe3-4ce5-a966-4585520dcaf6",
   "metadata": {},
   "source": [
    "Similar to the previous branch, i tokenised the text in each section and broke them into small chunks and returned it as a dictionary"
   ]
  },
  {
   "cell_type": "code",
   "execution_count": 21,
   "id": "5e2cd12d-2117-4135-b3ad-074ce8e0a068",
   "metadata": {},
   "outputs": [],
   "source": [
    "sections = {\n",
    "    \"skills\": [],\n",
    "    \"skill details\": [],\n",
    "    \"education\": [],\n",
    "    \"company details\": [],\n",
    "    \"projects\": []\n",
    "    # \"tools\": []\n",
    "}\n",
    "class TabularBranchDataset(Dataset):\n",
    "    def __init__(self, cv, labels, cls, tokenizer, window_size=128, stride=64, max_chunks=10):\n",
    "        self.cv = cv\n",
    "        self.labels = labels\n",
    "        self.cls = cls\n",
    "        self.tokenizer = tokenizer\n",
    "        self.window_size = window_size\n",
    "        self.stride = stride\n",
    "        self.max_chunks = max_chunks\n",
    "\n",
    "    def tokenize_and_chunk(self, text):\n",
    "        tokens = self.tokenizer.encode(text, add_special_tokens=False)\n",
    "        chunks = []\n",
    "        if len(tokens) <= self.window_size :\n",
    "            return [[self.tokenizer.cls_token_id] + tokens + [self.tokenizer.sep_token_id]]\n",
    "        for i in range(0, len(tokens) - self.window_size + 1, self.stride):\n",
    "            j = i + self.window_size if i + self.window_size < len(tokens) else len(tokens)\n",
    "            chunk = tokens[i:j]\n",
    "            chunk = [self.tokenizer.cls_token_id] + chunk + [self.tokenizer.sep_token_id]\n",
    "            if(len(chunk)>130):\n",
    "                print(\"Something went wrong\")\n",
    "            chunks.append(chunk)\n",
    "            if len(chunks) >= self.max_chunks or j == len(tokens):\n",
    "                break\n",
    "        return chunks\n",
    "\n",
    "    def __len__(self):\n",
    "        return len(self.cv)\n",
    "        \n",
    "    def __getitem__(self, idx):\n",
    "        resume = self.cv[idx]\n",
    "        label = self.labels[idx]\n",
    "        cls = self.cls[idx]\n",
    "        chunks = {key : self.tokenize_and_chunk(text) for key, text in resume.items()}\n",
    "        return chunks, label, cls"
   ]
  },
  {
   "cell_type": "markdown",
   "id": "00a8fd3e-a05c-4557-b95f-fee6e3c40095",
   "metadata": {},
   "source": [
    "## Train, Test Split"
   ]
  },
  {
   "cell_type": "code",
   "execution_count": 22,
   "id": "e773ae75-0a3d-4a97-a528-4c6bc037de5e",
   "metadata": {},
   "outputs": [],
   "source": [
    "tokenizer = BertTokenizer.from_pretrained('bert-base-uncased')\n",
    "cv = sdf[[\"skills\", \"skill details\", \"education\", \"company details\", \"projects\"]].to_dict(orient='records')\n",
    "labels = sdf[\"Shortlisted\"].tolist()\n",
    "cls = sdf[\"Category\"].tolist()\n",
    "\n",
    "# First split: 80% Train, 20% Temp (Dev+Test)\n",
    "train_cv, test_cv, train_labels, test_labels, train_cls, test_cls = train_test_split(\n",
    "    cv, labels, cls, test_size=0.2, random_state=42, stratify=labels\n",
    ")\n",
    "\n",
    "# Second split: 50% Dev, 50% Test -> 10% each\n",
    "# dev_cv, test_cv, dev_labels, test_labels, dev_cls, test_cls = train_test_split(\n",
    "#     temp_cv, temp_labels, temp_cls, test_size=0.5, random_state=42, stratify=temp_labels\n",
    "# )\n",
    "\n",
    "cv_train_dataset = TabularBranchDataset(train_cv, train_labels, train_cls, tokenizer)\n",
    "# cv_dev_dataset   = TextBranchDataset(dev_cv, dev_labels, dev_cls, tokenizer)\n",
    "cv_test_dataset  = TabularBranchDataset(test_cv, test_labels, test_cls, tokenizer)\n",
    "\n",
    "cv_train_loader = DataLoader(cv_train_dataset, batch_size=1, shuffle=True)\n",
    "# cv_dev_loader   = DataLoader(dev_dataset, batch_size=1)\n",
    "cv_test_loader  = DataLoader(cv_test_dataset, batch_size=1)"
   ]
  },
  {
   "cell_type": "markdown",
   "id": "046f06a2-c93d-4984-b909-bc370d3ad321",
   "metadata": {},
   "source": [
    "## Classifying Model"
   ]
  },
  {
   "cell_type": "markdown",
   "id": "0d3509c0-a134-4f3b-8532-f169ee44d618",
   "metadata": {},
   "source": [
    "The Model performs similar to the TextBranch Model, where we first get the embeddings of each chunk `(seq_len, 768)` using the pre trained bert and then stack all of the chunks and take the transpose `(n_chunks, 768, seq_len)` and pass it through a 1 dimensional Convolutional Layer `(n_chunks, conv_out, seq_len)` followed by an Adaptive pooling layer `(n_chunks, conv_out)` and then i take the mean across all the chunks `(1, conv_out)` and finally get some sort of encoding of text in each section, which i then stack them up and transpose `( conv_out, 5 sections)` and pass it thorough a 1 dimensional Convolutional layer with a filter of size `5` without and any padding and transpose it to get an output of size `(1, conv_out)`, which is then fed into a feedward network.\n",
    "\n",
    "This model finally outputs probability of being short listed for each job category."
   ]
  },
  {
   "cell_type": "code",
   "execution_count": 23,
   "id": "2a6ce38f-a5d2-431f-81b9-1dfa981313cf",
   "metadata": {},
   "outputs": [],
   "source": [
    "class TabularBranch(nn.Module):\n",
    "    def __init__(self, num_classes, conv_out = 512):\n",
    "        super().__init__()\n",
    "        self.bert = BertModel.from_pretrained('bert-base-uncased')\n",
    "        self.conv1 = nn.Conv1d(in_channels=768, out_channels= 512, kernel_size= 5, padding= 2)\n",
    "        self.conv2 = nn.Conv1d(in_channels=512, out_channels= 512, kernel_size= 5)\n",
    "        self.pool = nn.AdaptiveMaxPool1d(1)\n",
    "        self.classifier = nn.Sequential(\n",
    "            nn.Linear(512, 256),\n",
    "            nn.ReLU(),\n",
    "            nn.Dropout(0.3),\n",
    "            nn.Linear(256, 128),\n",
    "            nn.ReLU(),\n",
    "            nn.Dropout(0.3),\n",
    "        )\n",
    "        self.last_layer = nn.Linear(128, num_classes)\n",
    "    def forward(self, input_dict):  # input_chunks: list of [n_chunks x seq_len] tensors\n",
    "        tabular_encoding = []\n",
    "        for key in input_dict:\n",
    "            input_chunks = input_dict[key]\n",
    "            chunk_embeddings = []\n",
    "            with torch.no_grad():  # freeze BERT\n",
    "                for chunk in input_chunks:\n",
    "    \n",
    "                    if not isinstance(chunk, torch.Tensor):\n",
    "                        chunk = torch.tensor(chunk)  #.to(device)\n",
    "    \n",
    "                    # chunk = torch.tensor(chunk).to(device)\n",
    "                    input_ids = chunk.unsqueeze(0).to(next(self.parameters()).device) # storing a chunk in the device\n",
    "                    attention_mask = torch.ones_like(input_ids)  # generating the attention masks for the chunk\n",
    "    \n",
    "                    outputs = self.bert(input_ids=input_ids, attention_mask=attention_mask) # passing the chunk to the bert model\n",
    "                    token_embeddings = outputs.last_hidden_state.squeeze(0)  # output of bert (seq_len, 768)\n",
    "                    chunk_embeddings.append(token_embeddings) # appending the output of bert to the chunk embeddings\n",
    "\n",
    "            x = torch.stack(chunk_embeddings)          # (n_chunks, seq_len, 768), stacking the chunks\n",
    "            x = x.permute(0, 2, 1)                     # (n_chunks, 768, seq_len)\n",
    "            x = self.conv1(x)                           # (n_chunks, conv_out, seq_len)\n",
    "            x = F.relu(x)                              # (n_chunks, conv_out, seq_len)\n",
    "            x = self.pool(x).squeeze(-1)               # (n_chunks, conv_out)\n",
    "            x = x.mean(dim=0, keepdim=True)            # (1, conv_out)\n",
    "            tabular_encoding.append(x.squeeze())\n",
    "        x = torch.stack(tabular_encoding).permute(1, 0)    # (conv_out, 5)\n",
    "        x = self.conv2(x).permute(1, 0)                    # (1, conv_out)\n",
    "        last = self.classifier(x)\n",
    "        x = self.last_layer(last)\n",
    "        output = F.sigmoid(x)\n",
    "        return last, output.squeeze(0)"
   ]
  },
  {
   "cell_type": "markdown",
   "id": "d1bb60d1-6678-438e-86a9-b35a9743b6ba",
   "metadata": {},
   "source": [
    "## Training"
   ]
  },
  {
   "cell_type": "code",
   "execution_count": 24,
   "id": "6bdb020f-4482-48d8-9809-0cdb5b6b09a3",
   "metadata": {},
   "outputs": [
    {
     "name": "stdout",
     "output_type": "stream",
     "text": [
      "Progress  Epoch       Loss        Accuracy    Recall    \n",
      "    0"
     ]
    },
    {
     "name": "stderr",
     "output_type": "stream",
     "text": [
      "Token indices sequence length is longer than the specified maximum sequence length for this model (657 > 512). Running this sequence through the model will result in indexing errors\n"
     ]
    },
    {
     "name": "stdout",
     "output_type": "stream",
     "text": [
      "    7       1       96.1775        52.59%     50.19%\n",
      "    7       2       67.1994        52.73%     50.29%\n",
      "    7       3       40.4548        64.80%     63.02%\n",
      "    7       4       19.4821        81.49%     80.56%\n",
      "    7       5       10.4038        89.90%     89.39%\n",
      "    7       6        5.3001        95.23%     95.00%\n",
      "    7       7        2.4122        98.18%     98.08%\n",
      "    7       8        3.1731        97.62%     97.52%\n",
      "    7       9        2.9334        97.62%     97.51%\n",
      "    7      10        1.3894        99.30%     99.26%\n"
     ]
    }
   ],
   "source": [
    "if not load_pretrained_model:\n",
    "    device = torch.device('cuda' if torch.cuda.is_available() else 'cpu')\n",
    "    \n",
    "    tabular_model = TabularBranch(num_classes).to(device)\n",
    "    \n",
    "    criterion = nn.BCELoss()\n",
    "    optimizer = torch.optim.Adam(tabular_model.parameters(), lr=2e-4)\n",
    "    \n",
    "    print(f\"{'Progress':<10}{'Epoch':<12}{'Loss':<12}{'Accuracy':<12}{'Recall':<10}\")\n",
    "    \n",
    "    # Training loop\n",
    "    for epoch in range(10):\n",
    "        predicted = []\n",
    "        target = []\n",
    "        count = 0\n",
    "        tabular_model.train()\n",
    "        total_loss = 0\n",
    "        for batch in cv_train_loader:\n",
    "            if count %100 == 0:\n",
    "                print(f\"\\r{count//100:>5}\", end=\"\")\n",
    "            count += 1\n",
    "            chunks_dict, label, cls = batch  # since batch_size = 1\n",
    "            # print(len(chunks))\n",
    "            if(len(chunks_dict) == 0):\n",
    "                continue\n",
    "                \n",
    "            optimizer.zero_grad()\n",
    "            _, output = tabular_model(chunks_dict)  # shape: (num_classes,)\n",
    "            label_tensor = torch.tensor(\n",
    "                [float(label) if x == cls else 0.0 for x in range(num_classes)],\n",
    "                device=device\n",
    "            )\n",
    "    \n",
    "            loss = criterion(output, label_tensor)\n",
    "            loss.backward()\n",
    "            optimizer.step()\n",
    "    \n",
    "            total_loss += loss.item()\n",
    "            pred = int(output.tolist()[cls] > 0.5)\n",
    "            out = label\n",
    "            # print(\"Predicted shape:\", np.array(pred).shape, end = \"\\t\")\n",
    "            # print(\"Target shape:\", np.array(out).shape)\n",
    "            predicted.append(pred)\n",
    "            target.append(out)\n",
    "    \n",
    "        acc = accuracy_score(target, predicted)\n",
    "        recall = recall_score(target, predicted, average='macro')\n",
    "        print(f\"{epoch+1:>8}{total_loss:>14.4f}{acc*100:>13.2f}%{recall*100:>10.2f}%\")\n",
    "        \n",
    "    beep()\n",
    "else:\n",
    "    tabular_model = TextBranch(num_classes)\n",
    "    tabular_model.load_state_dict(torch.load('tabularbranch_weights.pth'))"
   ]
  },
  {
   "cell_type": "markdown",
   "id": "dab00184-ecc4-42ef-8ee7-54c9e520bdd0",
   "metadata": {},
   "source": [
    "The generated output for training the model, in case if you are using the pretrained model\n",
    "| Progress | Epoch |   Loss   | Accuracy | Recall  |\n",
    "|----------|--------|----------|----------|---------|\n",
    "|    7     |   1    | 96.1775  |  52.59%  | 50.19% |\n",
    "|    7     |   2    | 67.1994  |  52.73%  | 50.29% |\n",
    "|    7     |   3    | 40.4548  |  64.80%  | 63.02% |\n",
    "|    7     |   4    | 19.4821  |  81.49%  | 80.56% |\n",
    "|    7     |   5    | 10.4038  |  89.90%  | 89.39% |\n",
    "|    7     |   6    |  5.3001  |  95.23%  | 95.00% |\n",
    "|    7     |   7    |  2.4122  |  98.18%  | 98.08% |\n",
    "|    7     |   8    |  3.1731  |  97.62%  | 97.52% |\n",
    "|    7     |   9    |  2.9334  |  97.62%  | 97.51% |\n",
    "|    7     |  10    |  1.3894  |  99.30%  | 99.26% |\n"
   ]
  },
  {
   "cell_type": "markdown",
   "id": "8eba4ff2-c3f2-4a16-90b0-8733cbe05951",
   "metadata": {},
   "source": [
    "## Testing"
   ]
  },
  {
   "cell_type": "code",
   "execution_count": 25,
   "id": "49ced230-6d9f-41e9-8c07-74f9371d650f",
   "metadata": {},
   "outputs": [
    {
     "name": "stdout",
     "output_type": "stream",
     "text": [
      "Validation Accuracy : 95.5307%\n",
      "Validation Recall : 95.4068%\n"
     ]
    }
   ],
   "source": [
    "tabular_model.eval()\n",
    "\n",
    "predicted = []\n",
    "targets = []\n",
    "\n",
    "with torch.no_grad():\n",
    "    for batch in cv_test_loader:\n",
    "        chunks_dict, label, cls = batch  # since batch_size = 1\n",
    "\n",
    "        _, output = tabular_model(chunks_dict)\n",
    "        output = output.tolist()\n",
    "        # print(preds, \"and\", label)\n",
    "        pred = int(output[cls] > 0.5)\n",
    "        out = label           # assuming labels are one-hot\n",
    "\n",
    "        predicted.append(pred)\n",
    "        targets.append(out)\n",
    "\n",
    "# Accuracy using sklearn\n",
    "accuracy = accuracy_score(predicted, targets)\n",
    "print(f\"Validation Accuracy : {accuracy*100:.4f}%\")\n",
    "\n",
    "# Recall using sklearn\n",
    "recall = recall_score(targets, predicted, average='macro')  # or 'weighted' if class imbalance\n",
    "print(f\"Validation Recall : {recall*100:.4f}%\")\n"
   ]
  },
  {
   "cell_type": "code",
   "execution_count": 26,
   "id": "5f323431-2d2f-4111-b09c-663aabbed27c",
   "metadata": {},
   "outputs": [],
   "source": [
    "# Save only the model parameters (recommended)\n",
    "torch.save(tabular_model.state_dict(), 'tabularbranch_weights.pth')"
   ]
  },
  {
   "cell_type": "markdown",
   "id": "51a8c6c3-efce-474d-94c3-4bce468efd1d",
   "metadata": {},
   "source": [
    "# Fusion Model"
   ]
  },
  {
   "cell_type": "markdown",
   "id": "eb807b9d-fb64-4d1b-b5b7-167848c620e5",
   "metadata": {},
   "source": [
    "## DataLoader"
   ]
  },
  {
   "cell_type": "code",
   "execution_count": 27,
   "id": "4f55186f-bc73-487a-95e7-71447b4cdf6e",
   "metadata": {},
   "outputs": [],
   "source": [
    "class FusionDataset(Dataset):\n",
    "    def __init__(self, texts, cv, labels, cls, tokenizer, window_size=128, stride=64, max_chunks=10):\n",
    "        self.cv = cv\n",
    "        self.texts = texts\n",
    "        self.labels = labels\n",
    "        self.cls = cls\n",
    "        self.tokenizer = tokenizer\n",
    "        self.window_size = window_size\n",
    "        self.stride = stride\n",
    "        self.max_chunks = max_chunks\n",
    "\n",
    "    def tokenize_and_chunk(self, text):\n",
    "        tokens = self.tokenizer.encode(text, add_special_tokens=False)\n",
    "        chunks = []\n",
    "        if len(tokens) <= self.window_size :\n",
    "            return [[self.tokenizer.cls_token_id] + tokens + [self.tokenizer.sep_token_id]]\n",
    "        for i in range(0, len(tokens) - self.window_size + 1, self.stride):\n",
    "            j = i + self.window_size if i + self.window_size < len(tokens) else len(tokens)\n",
    "            chunk = tokens[i:j]\n",
    "            chunk = [self.tokenizer.cls_token_id] + chunk + [self.tokenizer.sep_token_id]\n",
    "            if(len(chunk)>130):\n",
    "                print(\"Something went wrong\")\n",
    "            chunks.append(chunk)\n",
    "            if len(chunks) >= self.max_chunks or j == len(tokens):\n",
    "                break\n",
    "        return chunks\n",
    "\n",
    "    def __len__(self):\n",
    "        return len(self.texts)\n",
    "        \n",
    "    def __getitem__(self, idx):\n",
    "        text = self.texts[idx]\n",
    "        resume = self.cv[idx]\n",
    "        label = self.labels[idx]\n",
    "        cls = self.cls[idx]\n",
    "        text_chunks = self.tokenize_and_chunk(text)\n",
    "        tabular_chunks = {key : self.tokenize_and_chunk(txt) for key, txt in resume.items()}\n",
    "        return text_chunks, tabular_chunks, label, cls"
   ]
  },
  {
   "cell_type": "markdown",
   "id": "cfc50407-c8f7-4626-84b1-a091aca2cf4b",
   "metadata": {},
   "source": [
    "## Train, Test Split"
   ]
  },
  {
   "cell_type": "code",
   "execution_count": 28,
   "id": "1a73e848-2e60-4d05-bdd7-7a75c72be32b",
   "metadata": {},
   "outputs": [],
   "source": [
    "tokenizer = BertTokenizer.from_pretrained('bert-base-uncased')\n",
    "cv = sdf[[\"skills\", \"skill details\", \"education\", \"company details\", \"projects\"]].to_dict(orient='records')\n",
    "texts = df[\"Resume\"].tolist()\n",
    "labels = sdf[\"Shortlisted\"].tolist()\n",
    "cls = sdf[\"Category\"].tolist()\n",
    "\n",
    "# First split: 80% Train, 20% Temp (Dev+Test)\n",
    "train_text, test_text, train_cv, test_cv, train_labels, test_labels, train_cls, test_cls = train_test_split(\n",
    "   texts, cv, labels, cls, test_size=0.2, random_state=42, stratify=labels\n",
    ")\n",
    "\n",
    "# Second split: 50% Dev, 50% Test -> 10% each\n",
    "# dev_cv, test_cv, dev_labels, test_labels, dev_cls, test_cls = train_test_split(\n",
    "#     temp_cv, temp_labels, temp_cls, test_size=0.5, random_state=42, stratify=temp_labels\n",
    "# )\n",
    "\n",
    "fusion_train_dataset = FusionDataset(train_text, train_cv, train_labels, train_cls, tokenizer)\n",
    "# cv_dev_dataset   = TextBranchDataset(dev_cv, dev_labels, dev_cls, tokenizer)\n",
    "fusion_test_dataset  = FusionDataset(test_text, test_cv, test_labels, test_cls, tokenizer)\n",
    "\n",
    "fusion_train_loader = DataLoader(fusion_train_dataset, batch_size=1, shuffle=True)\n",
    "# cv_dev_loader   = DataLoader(dev_dataset, batch_size=1)\n",
    "fusion_test_loader  = DataLoader(fusion_test_dataset, batch_size=1)"
   ]
  },
  {
   "cell_type": "code",
   "execution_count": 29,
   "id": "a7f527a8-4f4a-40a7-a443-94e1b01cf99f",
   "metadata": {},
   "outputs": [],
   "source": [
    "class FusionModel(nn.Module):\n",
    "    def __init__(self, tabular_dim=128, text_dim=128, num_classes=24):\n",
    "        super().__init__()\n",
    "        self.fc1 = nn.Linear(tabular_dim + text_dim, 128)\n",
    "        self.dropout = nn.Dropout(0.3)\n",
    "        self.fc2 = nn.Linear(128, num_classes)\n",
    "\n",
    "    def forward(self, text_features, tabular_features):\n",
    "        x = torch.cat([text_features, tabular_features], dim=1)\n",
    "        x = self.fc1(x)\n",
    "        x = F.relu(x)\n",
    "        x = self.dropout(x)\n",
    "        x = self.fc2(x)\n",
    "        x = F.sigmoid(x)\n",
    "        return x.squeeze(0)"
   ]
  },
  {
   "cell_type": "markdown",
   "id": "5d06dcbd-73e6-4832-9bf4-95925a7e881b",
   "metadata": {},
   "source": [
    "## Training"
   ]
  },
  {
   "cell_type": "code",
   "execution_count": 30,
   "id": "b8152afc-4155-4d08-b48b-a0349ef3de16",
   "metadata": {},
   "outputs": [
    {
     "name": "stdout",
     "output_type": "stream",
     "text": [
      "Progress  Epoch       Loss        Accuracy    Recall    \n",
      "    0"
     ]
    },
    {
     "name": "stderr",
     "output_type": "stream",
     "text": [
      "Token indices sequence length is longer than the specified maximum sequence length for this model (670 > 512). Running this sequence through the model will result in indexing errors\n"
     ]
    },
    {
     "name": "stdout",
     "output_type": "stream",
     "text": [
      "    7       1       94.6158        52.73%     50.32%\n",
      "    7       2       67.9045        52.45%     50.00%\n",
      "    7       3       53.0094        57.36%     55.18%\n",
      "    7       4       33.4612        69.85%     68.29%\n",
      "    7       5       18.8919        80.36%     79.36%\n",
      "    7       6       12.9753        87.38%     86.73%\n",
      "    7       7        8.4672        92.43%     92.05%\n",
      "    7       8        5.5174        95.37%     95.13%\n",
      "    7       9        4.0545        96.91%     96.76%\n",
      "    7      10        5.4146        95.93%     95.78%\n"
     ]
    }
   ],
   "source": [
    "if not load_pretrained_model:\n",
    "    device = torch.device('cuda' if torch.cuda.is_available() else 'cpu')\n",
    "    \n",
    "    text_model = TextBranch(num_classes = num_classes).to(device)\n",
    "    tabular_model = TabularBranch(num_classes = num_classes).to(device)\n",
    "    fusion_model = FusionModel(num_classes = num_classes).to(device)\n",
    "    \n",
    "    criterion = nn.BCELoss()\n",
    "    parameters = list(text_model.parameters()) + list(tabular_model.parameters()) + list(fusion_model.parameters())\n",
    "    optimizer = torch.optim.Adam(parameters, lr=2e-4)\n",
    "    \n",
    "    print(f\"{'Progress':<10}{'Epoch':<12}{'Loss':<12}{'Accuracy':<12}{'Recall':<10}\")\n",
    "    \n",
    "    # Training loop\n",
    "    for epoch in range(10):\n",
    "        predicted = []\n",
    "        target = []\n",
    "        count = 0\n",
    "        tabular_model.train()\n",
    "        total_loss = 0\n",
    "        for batch in fusion_train_loader:\n",
    "            if count %100 == 0:\n",
    "                print(f\"\\r{count//100:>5}\", end=\"\")\n",
    "            count += 1\n",
    "            \n",
    "            text_chunks, tabular_chunks, label, cls = batch  # since batch_size = 1\n",
    "            # print(len(chunks))\n",
    "            if(len(text_chunks) == 0 or len(tabular_chunks) == 0 ):\n",
    "                continue\n",
    "                \n",
    "            optimizer.zero_grad()\n",
    "            text_output, _ = text_model(text_chunks)  # shape: (num_classes,)\n",
    "            tabular_output, _ = tabular_model(tabular_chunks)  # shape: (num_classes,)\n",
    "            output = fusion_model(text_output, tabular_output)\n",
    "            label_tensor = torch.tensor(\n",
    "                [float(label) if x == cls else 0.0 for x in range(num_classes)],\n",
    "                device=device\n",
    "            )\n",
    "    \n",
    "            loss = criterion(output, label_tensor)\n",
    "            loss.backward()\n",
    "            optimizer.step()\n",
    "    \n",
    "            total_loss += loss.item()\n",
    "            pred = int(output.tolist()[cls] > 0.5)\n",
    "            out = label\n",
    "            # print(\"Predicted shape:\", np.array(pred).shape, end = \"\\t\")\n",
    "            # print(\"Target shape:\", np.array(out).shape)\n",
    "            predicted.append(pred)\n",
    "            target.append(out)\n",
    "    \n",
    "        acc = accuracy_score(target, predicted)\n",
    "        recall = recall_score(target, predicted, average='macro')\n",
    "        print(f\"{epoch+1:>8}{total_loss:>14.4f}{acc*100:>13.2f}%{recall*100:>10.2f}%\")\n",
    "        \n",
    "    beep()\n",
    "else:\n",
    "    text_model = TextBranch(num_classes = num_classes).to(device)\n",
    "    text_model.load_state_dict(torch.load('fused_text_weights.pth'))\n",
    "    tabular_model = TabularBranch(num_classes = num_classes).to(device)\n",
    "    tabular_model.load_state_dict(torch.load('fused_tabular_weights.pth'))\n",
    "    fusion_model = TextBranch(num_classes)\n",
    "    fusion_model.load_state_dict(torch.load('fusion_weights.pth'))"
   ]
  },
  {
   "cell_type": "markdown",
   "id": "0c3241fe-0c39-4732-8f8b-afdc05c7a2fa",
   "metadata": {},
   "source": [
    "The generated output for training the model, in case if you are using the pretrained model\n",
    "| Progress | Epoch |   Loss   | Accuracy | Recall  |\n",
    "|----------|--------|----------|----------|---------|\n",
    "|    7     |   1    | 94.6158  |  52.73%  | 50.32% |\n",
    "|    7     |   2    | 67.9045  |  52.45%  | 50.00% |\n",
    "|    7     |   3    | 53.0094  |  57.36%  | 55.18% |\n",
    "|    7     |   4    | 33.4612  |  69.85%  | 68.29% |\n",
    "|    7     |   5    | 18.8919  |  80.36%  | 79.36% |\n",
    "|    7     |   6    | 12.9753  |  87.38%  | 86.73% |\n",
    "|    7     |   7    |  8.4672  |  92.43%  | 92.05% |\n",
    "|    7     |   8    |  5.5174  |  95.37%  | 95.13% |\n",
    "|    7     |   9    |  4.0545  |  96.91%  | 96.76% |\n",
    "|    7     |  10    |  5.4146  |  95.93%  | 95.78% |"
   ]
  },
  {
   "cell_type": "markdown",
   "id": "3ef1a8c6-d4d2-4494-87fa-44a9dcae84a6",
   "metadata": {},
   "source": [
    "## Testing"
   ]
  },
  {
   "cell_type": "code",
   "execution_count": 31,
   "id": "eec22aab-2857-4a2f-ab86-05ac1cf17e66",
   "metadata": {},
   "outputs": [
    {
     "name": "stdout",
     "output_type": "stream",
     "text": [
      "Validation Accuracy : 97.7654%\n",
      "Validation Recall : 97.6471%\n"
     ]
    }
   ],
   "source": [
    "text_model.eval()\n",
    "tabular_model.eval()\n",
    "fusion_model.eval()\n",
    "\n",
    "predicted = []\n",
    "targets = []\n",
    "\n",
    "with torch.no_grad():\n",
    "    for batch in fusion_test_loader:\n",
    "        text_chunks, tabular_chunks, label, cls = batch\n",
    "\n",
    "        text_output, _ = text_model(text_chunks)\n",
    "        tabular_output, _ = tabular_model(tabular_chunks)  # shape: (num_classes,)\n",
    "        output = fusion_model(text_output, tabular_output).tolist()\n",
    "        # print(preds, \"and\", label)\n",
    "        pred = int(output[cls] > 0.5)\n",
    "        out = label           # assuming labels are one-hot\n",
    "\n",
    "        predicted.append(pred)\n",
    "        targets.append(out)\n",
    "\n",
    "# Accuracy using sklearn\n",
    "accuracy = accuracy_score(predicted, targets)\n",
    "print(f\"Validation Accuracy : {accuracy*100:.4f}%\")\n",
    "\n",
    "# Recall using sklearn\n",
    "recall = recall_score(targets, predicted, average='macro')  # or 'weighted' if class imbalance\n",
    "print(f\"Validation Recall : {recall*100:.4f}%\")"
   ]
  },
  {
   "cell_type": "code",
   "execution_count": 34,
   "id": "bda19690-ea4b-4ef9-84c6-aa46fb2e8a7d",
   "metadata": {},
   "outputs": [],
   "source": [
    "# Save only the model parameters (recommended)\n",
    "torch.save(text_model.state_dict(), 'fused_text_weights.pth')\n",
    "torch.save(tabular_model.state_dict(), 'fused_tabular_weights.pth')\n",
    "torch.save(fusion_model.state_dict(), 'fusion_weights.pth')"
   ]
  },
  {
   "cell_type": "code",
   "execution_count": null,
   "id": "046b6a7f-89e5-4bbd-a2cc-a7a7a99c07a5",
   "metadata": {},
   "outputs": [],
   "source": []
  }
 ],
 "metadata": {
  "kernelspec": {
   "display_name": "Python (sklearn_env)",
   "language": "python",
   "name": "sklearn_env"
  },
  "language_info": {
   "codemirror_mode": {
    "name": "ipython",
    "version": 3
   },
   "file_extension": ".py",
   "mimetype": "text/x-python",
   "name": "python",
   "nbconvert_exporter": "python",
   "pygments_lexer": "ipython3",
   "version": "3.12.3"
  }
 },
 "nbformat": 4,
 "nbformat_minor": 5
}
